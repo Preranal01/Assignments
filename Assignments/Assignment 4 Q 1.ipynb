{
 "cells": [
  {
   "cell_type": "code",
   "execution_count": 1,
   "id": "cb4837d8",
   "metadata": {},
   "outputs": [],
   "source": [
    "#Import libraries\n",
    "\n",
    "import pandas as pd\n",
    "import numpy as np\n",
    "import seaborn as sns\n",
    "import statsmodels.formula.api as smf\n",
    "import matplotlib.pyplot as plt\n",
    "%matplotlib inline"
   ]
  },
  {
   "cell_type": "code",
   "execution_count": 2,
   "id": "d3ef3a4e",
   "metadata": {},
   "outputs": [
    {
     "data": {
      "text/html": [
       "<div>\n",
       "<style scoped>\n",
       "    .dataframe tbody tr th:only-of-type {\n",
       "        vertical-align: middle;\n",
       "    }\n",
       "\n",
       "    .dataframe tbody tr th {\n",
       "        vertical-align: top;\n",
       "    }\n",
       "\n",
       "    .dataframe thead th {\n",
       "        text-align: right;\n",
       "    }\n",
       "</style>\n",
       "<table border=\"1\" class=\"dataframe\">\n",
       "  <thead>\n",
       "    <tr style=\"text-align: right;\">\n",
       "      <th></th>\n",
       "      <th>Delivery Time</th>\n",
       "      <th>Sorting Time</th>\n",
       "    </tr>\n",
       "  </thead>\n",
       "  <tbody>\n",
       "    <tr>\n",
       "      <th>0</th>\n",
       "      <td>21.00</td>\n",
       "      <td>10</td>\n",
       "    </tr>\n",
       "    <tr>\n",
       "      <th>1</th>\n",
       "      <td>13.50</td>\n",
       "      <td>4</td>\n",
       "    </tr>\n",
       "    <tr>\n",
       "      <th>2</th>\n",
       "      <td>19.75</td>\n",
       "      <td>6</td>\n",
       "    </tr>\n",
       "    <tr>\n",
       "      <th>3</th>\n",
       "      <td>24.00</td>\n",
       "      <td>9</td>\n",
       "    </tr>\n",
       "    <tr>\n",
       "      <th>4</th>\n",
       "      <td>29.00</td>\n",
       "      <td>10</td>\n",
       "    </tr>\n",
       "    <tr>\n",
       "      <th>5</th>\n",
       "      <td>15.35</td>\n",
       "      <td>6</td>\n",
       "    </tr>\n",
       "    <tr>\n",
       "      <th>6</th>\n",
       "      <td>19.00</td>\n",
       "      <td>7</td>\n",
       "    </tr>\n",
       "    <tr>\n",
       "      <th>7</th>\n",
       "      <td>9.50</td>\n",
       "      <td>3</td>\n",
       "    </tr>\n",
       "    <tr>\n",
       "      <th>8</th>\n",
       "      <td>17.90</td>\n",
       "      <td>10</td>\n",
       "    </tr>\n",
       "    <tr>\n",
       "      <th>9</th>\n",
       "      <td>18.75</td>\n",
       "      <td>9</td>\n",
       "    </tr>\n",
       "    <tr>\n",
       "      <th>10</th>\n",
       "      <td>19.83</td>\n",
       "      <td>8</td>\n",
       "    </tr>\n",
       "    <tr>\n",
       "      <th>11</th>\n",
       "      <td>10.75</td>\n",
       "      <td>4</td>\n",
       "    </tr>\n",
       "    <tr>\n",
       "      <th>12</th>\n",
       "      <td>16.68</td>\n",
       "      <td>7</td>\n",
       "    </tr>\n",
       "    <tr>\n",
       "      <th>13</th>\n",
       "      <td>11.50</td>\n",
       "      <td>3</td>\n",
       "    </tr>\n",
       "    <tr>\n",
       "      <th>14</th>\n",
       "      <td>12.03</td>\n",
       "      <td>3</td>\n",
       "    </tr>\n",
       "    <tr>\n",
       "      <th>15</th>\n",
       "      <td>14.88</td>\n",
       "      <td>4</td>\n",
       "    </tr>\n",
       "    <tr>\n",
       "      <th>16</th>\n",
       "      <td>13.75</td>\n",
       "      <td>6</td>\n",
       "    </tr>\n",
       "    <tr>\n",
       "      <th>17</th>\n",
       "      <td>18.11</td>\n",
       "      <td>7</td>\n",
       "    </tr>\n",
       "    <tr>\n",
       "      <th>18</th>\n",
       "      <td>8.00</td>\n",
       "      <td>2</td>\n",
       "    </tr>\n",
       "    <tr>\n",
       "      <th>19</th>\n",
       "      <td>17.83</td>\n",
       "      <td>7</td>\n",
       "    </tr>\n",
       "    <tr>\n",
       "      <th>20</th>\n",
       "      <td>21.50</td>\n",
       "      <td>5</td>\n",
       "    </tr>\n",
       "  </tbody>\n",
       "</table>\n",
       "</div>"
      ],
      "text/plain": [
       "    Delivery Time  Sorting Time\n",
       "0           21.00            10\n",
       "1           13.50             4\n",
       "2           19.75             6\n",
       "3           24.00             9\n",
       "4           29.00            10\n",
       "5           15.35             6\n",
       "6           19.00             7\n",
       "7            9.50             3\n",
       "8           17.90            10\n",
       "9           18.75             9\n",
       "10          19.83             8\n",
       "11          10.75             4\n",
       "12          16.68             7\n",
       "13          11.50             3\n",
       "14          12.03             3\n",
       "15          14.88             4\n",
       "16          13.75             6\n",
       "17          18.11             7\n",
       "18           8.00             2\n",
       "19          17.83             7\n",
       "20          21.50             5"
      ]
     },
     "execution_count": 2,
     "metadata": {},
     "output_type": "execute_result"
    }
   ],
   "source": [
    "#load the data\n",
    "\n",
    "data=pd.read_csv(r\"C:\\Users\\Prerana\\Downloads\\delivery_time.csv\")\n",
    "data"
   ]
  },
  {
   "cell_type": "markdown",
   "id": "eb1cf0b0",
   "metadata": {},
   "source": [
    "EDA"
   ]
  },
  {
   "cell_type": "code",
   "execution_count": 3,
   "id": "6df5b92b",
   "metadata": {
    "scrolled": true
   },
   "outputs": [
    {
     "data": {
      "text/html": [
       "<div>\n",
       "<style scoped>\n",
       "    .dataframe tbody tr th:only-of-type {\n",
       "        vertical-align: middle;\n",
       "    }\n",
       "\n",
       "    .dataframe tbody tr th {\n",
       "        vertical-align: top;\n",
       "    }\n",
       "\n",
       "    .dataframe thead th {\n",
       "        text-align: right;\n",
       "    }\n",
       "</style>\n",
       "<table border=\"1\" class=\"dataframe\">\n",
       "  <thead>\n",
       "    <tr style=\"text-align: right;\">\n",
       "      <th></th>\n",
       "      <th>Delivery Time</th>\n",
       "      <th>Sorting Time</th>\n",
       "    </tr>\n",
       "  </thead>\n",
       "  <tbody>\n",
       "    <tr>\n",
       "      <th>count</th>\n",
       "      <td>21.000000</td>\n",
       "      <td>21.000000</td>\n",
       "    </tr>\n",
       "    <tr>\n",
       "      <th>mean</th>\n",
       "      <td>16.790952</td>\n",
       "      <td>6.190476</td>\n",
       "    </tr>\n",
       "    <tr>\n",
       "      <th>std</th>\n",
       "      <td>5.074901</td>\n",
       "      <td>2.542028</td>\n",
       "    </tr>\n",
       "    <tr>\n",
       "      <th>min</th>\n",
       "      <td>8.000000</td>\n",
       "      <td>2.000000</td>\n",
       "    </tr>\n",
       "    <tr>\n",
       "      <th>25%</th>\n",
       "      <td>13.500000</td>\n",
       "      <td>4.000000</td>\n",
       "    </tr>\n",
       "    <tr>\n",
       "      <th>50%</th>\n",
       "      <td>17.830000</td>\n",
       "      <td>6.000000</td>\n",
       "    </tr>\n",
       "    <tr>\n",
       "      <th>75%</th>\n",
       "      <td>19.750000</td>\n",
       "      <td>8.000000</td>\n",
       "    </tr>\n",
       "    <tr>\n",
       "      <th>max</th>\n",
       "      <td>29.000000</td>\n",
       "      <td>10.000000</td>\n",
       "    </tr>\n",
       "  </tbody>\n",
       "</table>\n",
       "</div>"
      ],
      "text/plain": [
       "       Delivery Time  Sorting Time\n",
       "count      21.000000     21.000000\n",
       "mean       16.790952      6.190476\n",
       "std         5.074901      2.542028\n",
       "min         8.000000      2.000000\n",
       "25%        13.500000      4.000000\n",
       "50%        17.830000      6.000000\n",
       "75%        19.750000      8.000000\n",
       "max        29.000000     10.000000"
      ]
     },
     "execution_count": 3,
     "metadata": {},
     "output_type": "execute_result"
    }
   ],
   "source": [
    "data.describe()"
   ]
  },
  {
   "cell_type": "code",
   "execution_count": 4,
   "id": "16b326e6",
   "metadata": {},
   "outputs": [
    {
     "name": "stdout",
     "output_type": "stream",
     "text": [
      "<class 'pandas.core.frame.DataFrame'>\n",
      "RangeIndex: 21 entries, 0 to 20\n",
      "Data columns (total 2 columns):\n",
      " #   Column         Non-Null Count  Dtype  \n",
      "---  ------         --------------  -----  \n",
      " 0   Delivery Time  21 non-null     float64\n",
      " 1   Sorting Time   21 non-null     int64  \n",
      "dtypes: float64(1), int64(1)\n",
      "memory usage: 464.0 bytes\n"
     ]
    }
   ],
   "source": [
    "data.info()"
   ]
  },
  {
   "cell_type": "code",
   "execution_count": 5,
   "id": "cf154050",
   "metadata": {},
   "outputs": [
    {
     "data": {
      "text/plain": [
       "Delivery Time    0\n",
       "Sorting Time     0\n",
       "dtype: int64"
      ]
     },
     "execution_count": 5,
     "metadata": {},
     "output_type": "execute_result"
    }
   ],
   "source": [
    "data.isna().sum()"
   ]
  },
  {
   "cell_type": "code",
   "execution_count": 6,
   "id": "3b174f9e",
   "metadata": {},
   "outputs": [
    {
     "data": {
      "text/html": [
       "<div>\n",
       "<style scoped>\n",
       "    .dataframe tbody tr th:only-of-type {\n",
       "        vertical-align: middle;\n",
       "    }\n",
       "\n",
       "    .dataframe tbody tr th {\n",
       "        vertical-align: top;\n",
       "    }\n",
       "\n",
       "    .dataframe thead th {\n",
       "        text-align: right;\n",
       "    }\n",
       "</style>\n",
       "<table border=\"1\" class=\"dataframe\">\n",
       "  <thead>\n",
       "    <tr style=\"text-align: right;\">\n",
       "      <th></th>\n",
       "      <th>DeliveryTime</th>\n",
       "      <th>SortingTime</th>\n",
       "    </tr>\n",
       "  </thead>\n",
       "  <tbody>\n",
       "    <tr>\n",
       "      <th>0</th>\n",
       "      <td>21.00</td>\n",
       "      <td>10</td>\n",
       "    </tr>\n",
       "    <tr>\n",
       "      <th>1</th>\n",
       "      <td>13.50</td>\n",
       "      <td>4</td>\n",
       "    </tr>\n",
       "    <tr>\n",
       "      <th>2</th>\n",
       "      <td>19.75</td>\n",
       "      <td>6</td>\n",
       "    </tr>\n",
       "    <tr>\n",
       "      <th>3</th>\n",
       "      <td>24.00</td>\n",
       "      <td>9</td>\n",
       "    </tr>\n",
       "    <tr>\n",
       "      <th>4</th>\n",
       "      <td>29.00</td>\n",
       "      <td>10</td>\n",
       "    </tr>\n",
       "  </tbody>\n",
       "</table>\n",
       "</div>"
      ],
      "text/plain": [
       "   DeliveryTime  SortingTime\n",
       "0         21.00           10\n",
       "1         13.50            4\n",
       "2         19.75            6\n",
       "3         24.00            9\n",
       "4         29.00           10"
      ]
     },
     "execution_count": 6,
     "metadata": {},
     "output_type": "execute_result"
    }
   ],
   "source": [
    "data.rename(columns={'Delivery Time':'DeliveryTime',\n",
    "                    'Sorting Time':'SortingTime'},inplace=True)\n",
    "data.head()"
   ]
  },
  {
   "cell_type": "code",
   "execution_count": 7,
   "id": "790a0245",
   "metadata": {},
   "outputs": [
    {
     "data": {
      "text/plain": [
       "<AxesSubplot:xlabel='SortingTime', ylabel='DeliveryTime'>"
      ]
     },
     "execution_count": 7,
     "metadata": {},
     "output_type": "execute_result"
    },
    {
     "data": {
      "image/png": "[encoded data removed]",
      "text/plain": [
       "<Figure size 640x480 with 1 Axes>"
      ]
     },
     "metadata": {},
     "output_type": "display_data"
    }
   ],
   "source": [
    "sns.scatterplot(x=data['SortingTime'],y=data['DeliveryTime'])"
   ]
  },
  {
   "cell_type": "code",
   "execution_count": 8,
   "id": "689dc6c4",
   "metadata": {},
   "outputs": [
    {
     "data": {
      "text/plain": [
       "<AxesSubplot:xlabel='SortingTime', ylabel='DeliveryTime'>"
      ]
     },
     "execution_count": 8,
     "metadata": {},
     "output_type": "execute_result"
    },
    {
     "data": {
      "image/png": "[encoded data removed]",
      "text/plain": [
       "<Figure size 640x480 with 1 Axes>"
      ]
     },
     "metadata": {},
     "output_type": "display_data"
    }
   ],
   "source": [
    "sns.regplot(x='SortingTime',y='DeliveryTime',data=data)"
   ]
  },
  {
   "cell_type": "code",
   "execution_count": 9,
   "id": "1116618c",
   "metadata": {},
   "outputs": [
    {
     "data": {
      "text/html": [
       "<div>\n",
       "<style scoped>\n",
       "    .dataframe tbody tr th:only-of-type {\n",
       "        vertical-align: middle;\n",
       "    }\n",
       "\n",
       "    .dataframe tbody tr th {\n",
       "        vertical-align: top;\n",
       "    }\n",
       "\n",
       "    .dataframe thead th {\n",
       "        text-align: right;\n",
       "    }\n",
       "</style>\n",
       "<table border=\"1\" class=\"dataframe\">\n",
       "  <thead>\n",
       "    <tr style=\"text-align: right;\">\n",
       "      <th></th>\n",
       "      <th>DeliveryTime</th>\n",
       "      <th>SortingTime</th>\n",
       "    </tr>\n",
       "  </thead>\n",
       "  <tbody>\n",
       "    <tr>\n",
       "      <th>DeliveryTime</th>\n",
       "      <td>1.000000</td>\n",
       "      <td>0.825997</td>\n",
       "    </tr>\n",
       "    <tr>\n",
       "      <th>SortingTime</th>\n",
       "      <td>0.825997</td>\n",
       "      <td>1.000000</td>\n",
       "    </tr>\n",
       "  </tbody>\n",
       "</table>\n",
       "</div>"
      ],
      "text/plain": [
       "              DeliveryTime  SortingTime\n",
       "DeliveryTime      1.000000     0.825997\n",
       "SortingTime       0.825997     1.000000"
      ]
     },
     "execution_count": 9,
     "metadata": {},
     "output_type": "execute_result"
    }
   ],
   "source": [
    "#Correlation Analysis\n",
    "data.corr()"
   ]
  },
  {
   "cell_type": "code",
   "execution_count": 10,
   "id": "aa7583fb",
   "metadata": {},
   "outputs": [
    {
     "data": {
      "text/plain": [
       "<AxesSubplot:>"
      ]
     },
     "execution_count": 10,
     "metadata": {},
     "output_type": "execute_result"
    },
    {
     "data": {
      "image/png": "[encoded data removed]",
      "text/plain": [
       "<Figure size 640x480 with 2 Axes>"
      ]
     },
     "metadata": {},
     "output_type": "display_data"
    }
   ],
   "source": [
    "sns.heatmap(data.corr(),annot=True)"
   ]
  },
  {
   "cell_type": "code",
   "execution_count": 11,
   "id": "531c7eac",
   "metadata": {},
   "outputs": [],
   "source": [
    "#Model Creation\n",
    "model=smf.ols('DeliveryTime~SortingTime',data=data).fit()"
   ]
  },
  {
   "cell_type": "code",
   "execution_count": 12,
   "id": "119f407d",
   "metadata": {},
   "outputs": [
    {
     "data": {
      "text/plain": [
       "Intercept      6.582734\n",
       "SortingTime    1.649020\n",
       "dtype: float64"
      ]
     },
     "execution_count": 12,
     "metadata": {},
     "output_type": "execute_result"
    }
   ],
   "source": [
    "#Model Parameteres\n",
    "model.params"
   ]
  },
  {
   "cell_type": "code",
   "execution_count": 13,
   "id": "cf738d76",
   "metadata": {},
   "outputs": [
    {
     "data": {
      "text/plain": [
       "Intercept      0.001147\n",
       "SortingTime    0.000004\n",
       "dtype: float64"
      ]
     },
     "execution_count": 13,
     "metadata": {},
     "output_type": "execute_result"
    }
   ],
   "source": [
    "#Checking p value\n",
    "model.pvalues"
   ]
  },
  {
   "cell_type": "code",
   "execution_count": 14,
   "id": "e5278c78",
   "metadata": {},
   "outputs": [
    {
     "data": {
      "text/plain": [
       "0.6822714748417231"
      ]
     },
     "execution_count": 14,
     "metadata": {},
     "output_type": "execute_result"
    }
   ],
   "source": [
    "#r2 value\n",
    "model.rsquared"
   ]
  },
  {
   "cell_type": "code",
   "execution_count": 15,
   "id": "7bba44d9",
   "metadata": {},
   "outputs": [],
   "source": [
    "#Transform the data\n",
    "from sklearn.preprocessing import StandardScaler"
   ]
  },
  {
   "cell_type": "code",
   "execution_count": 16,
   "id": "108bc4ca",
   "metadata": {},
   "outputs": [],
   "source": [
    "Scaler = StandardScaler()\n",
    "data_scaled = pd.DataFrame(Scaler.fit_transform(data),columns=data.columns)"
   ]
  },
  {
   "cell_type": "code",
   "execution_count": 17,
   "id": "714132bf",
   "metadata": {},
   "outputs": [
    {
     "data": {
      "text/html": [
       "<div>\n",
       "<style scoped>\n",
       "    .dataframe tbody tr th:only-of-type {\n",
       "        vertical-align: middle;\n",
       "    }\n",
       "\n",
       "    .dataframe tbody tr th {\n",
       "        vertical-align: top;\n",
       "    }\n",
       "\n",
       "    .dataframe thead th {\n",
       "        text-align: right;\n",
       "    }\n",
       "</style>\n",
       "<table border=\"1\" class=\"dataframe\">\n",
       "  <thead>\n",
       "    <tr style=\"text-align: right;\">\n",
       "      <th></th>\n",
       "      <th>DeliveryTime</th>\n",
       "      <th>SortingTime</th>\n",
       "    </tr>\n",
       "  </thead>\n",
       "  <tbody>\n",
       "    <tr>\n",
       "      <th>0</th>\n",
       "      <td>0.849867</td>\n",
       "      <td>1.535625</td>\n",
       "    </tr>\n",
       "    <tr>\n",
       "      <th>1</th>\n",
       "      <td>-0.664490</td>\n",
       "      <td>-0.882984</td>\n",
       "    </tr>\n",
       "    <tr>\n",
       "      <th>2</th>\n",
       "      <td>0.597474</td>\n",
       "      <td>-0.076781</td>\n",
       "    </tr>\n",
       "    <tr>\n",
       "      <th>3</th>\n",
       "      <td>1.455610</td>\n",
       "      <td>1.132523</td>\n",
       "    </tr>\n",
       "    <tr>\n",
       "      <th>4</th>\n",
       "      <td>2.465181</td>\n",
       "      <td>1.535625</td>\n",
       "    </tr>\n",
       "    <tr>\n",
       "      <th>5</th>\n",
       "      <td>-0.290949</td>\n",
       "      <td>-0.076781</td>\n",
       "    </tr>\n",
       "    <tr>\n",
       "      <th>6</th>\n",
       "      <td>0.446038</td>\n",
       "      <td>0.326320</td>\n",
       "    </tr>\n",
       "    <tr>\n",
       "      <th>7</th>\n",
       "      <td>-1.472148</td>\n",
       "      <td>-1.286086</td>\n",
       "    </tr>\n",
       "    <tr>\n",
       "      <th>8</th>\n",
       "      <td>0.223933</td>\n",
       "      <td>1.535625</td>\n",
       "    </tr>\n",
       "    <tr>\n",
       "      <th>9</th>\n",
       "      <td>0.395560</td>\n",
       "      <td>1.132523</td>\n",
       "    </tr>\n",
       "    <tr>\n",
       "      <th>10</th>\n",
       "      <td>0.613627</td>\n",
       "      <td>0.729422</td>\n",
       "    </tr>\n",
       "    <tr>\n",
       "      <th>11</th>\n",
       "      <td>-1.219755</td>\n",
       "      <td>-0.882984</td>\n",
       "    </tr>\n",
       "    <tr>\n",
       "      <th>12</th>\n",
       "      <td>-0.022403</td>\n",
       "      <td>0.326320</td>\n",
       "    </tr>\n",
       "    <tr>\n",
       "      <th>13</th>\n",
       "      <td>-1.068319</td>\n",
       "      <td>-1.286086</td>\n",
       "    </tr>\n",
       "    <tr>\n",
       "      <th>14</th>\n",
       "      <td>-0.961304</td>\n",
       "      <td>-1.286086</td>\n",
       "    </tr>\n",
       "    <tr>\n",
       "      <th>15</th>\n",
       "      <td>-0.385849</td>\n",
       "      <td>-0.882984</td>\n",
       "    </tr>\n",
       "    <tr>\n",
       "      <th>16</th>\n",
       "      <td>-0.614012</td>\n",
       "      <td>-0.076781</td>\n",
       "    </tr>\n",
       "    <tr>\n",
       "      <th>17</th>\n",
       "      <td>0.266335</td>\n",
       "      <td>0.326320</td>\n",
       "    </tr>\n",
       "    <tr>\n",
       "      <th>18</th>\n",
       "      <td>-1.775019</td>\n",
       "      <td>-1.689187</td>\n",
       "    </tr>\n",
       "    <tr>\n",
       "      <th>19</th>\n",
       "      <td>0.209799</td>\n",
       "      <td>0.326320</td>\n",
       "    </tr>\n",
       "    <tr>\n",
       "      <th>20</th>\n",
       "      <td>0.950824</td>\n",
       "      <td>-0.479883</td>\n",
       "    </tr>\n",
       "  </tbody>\n",
       "</table>\n",
       "</div>"
      ],
      "text/plain": [
       "    DeliveryTime  SortingTime\n",
       "0       0.849867     1.535625\n",
       "1      -0.664490    -0.882984\n",
       "2       0.597474    -0.076781\n",
       "3       1.455610     1.132523\n",
       "4       2.465181     1.535625\n",
       "5      -0.290949    -0.076781\n",
       "6       0.446038     0.326320\n",
       "7      -1.472148    -1.286086\n",
       "8       0.223933     1.535625\n",
       "9       0.395560     1.132523\n",
       "10      0.613627     0.729422\n",
       "11     -1.219755    -0.882984\n",
       "12     -0.022403     0.326320\n",
       "13     -1.068319    -1.286086\n",
       "14     -0.961304    -1.286086\n",
       "15     -0.385849    -0.882984\n",
       "16     -0.614012    -0.076781\n",
       "17      0.266335     0.326320\n",
       "18     -1.775019    -1.689187\n",
       "19      0.209799     0.326320\n",
       "20      0.950824    -0.479883"
      ]
     },
     "execution_count": 17,
     "metadata": {},
     "output_type": "execute_result"
    }
   ],
   "source": [
    "data_scaled"
   ]
  },
  {
   "cell_type": "code",
   "execution_count": 18,
   "id": "90224119",
   "metadata": {},
   "outputs": [],
   "source": [
    "model1=smf.ols('DeliveryTime~SortingTime',data=data_scaled).fit()"
   ]
  },
  {
   "cell_type": "code",
   "execution_count": 19,
   "id": "b90bb0c3",
   "metadata": {},
   "outputs": [
    {
     "data": {
      "text/plain": [
       "Intercept     -5.067181e-16\n",
       "SortingTime    8.259973e-01\n",
       "dtype: float64"
      ]
     },
     "execution_count": 19,
     "metadata": {},
     "output_type": "execute_result"
    }
   ],
   "source": [
    "#Model Parameteres\n",
    "model1.params"
   ]
  },
  {
   "cell_type": "code",
   "execution_count": 20,
   "id": "b5c3cafa",
   "metadata": {},
   "outputs": [
    {
     "data": {
      "text/plain": [
       "Intercept      1.000000\n",
       "SortingTime    0.000004\n",
       "dtype: float64"
      ]
     },
     "execution_count": 20,
     "metadata": {},
     "output_type": "execute_result"
    }
   ],
   "source": [
    "#Checking p value\n",
    "model1.pvalues"
   ]
  },
  {
   "cell_type": "code",
   "execution_count": 21,
   "id": "e95e7e1f",
   "metadata": {},
   "outputs": [
    {
     "data": {
      "text/plain": [
       "0.682271474841723"
      ]
     },
     "execution_count": 21,
     "metadata": {},
     "output_type": "execute_result"
    }
   ],
   "source": [
    "#r2 value\n",
    "model1.rsquared"
   ]
  },
  {
   "cell_type": "markdown",
   "id": "0f98f569",
   "metadata": {},
   "source": [
    "Log Transformation of Sorting time"
   ]
  },
  {
   "cell_type": "code",
   "execution_count": 23,
   "id": "163baa51",
   "metadata": {},
   "outputs": [],
   "source": [
    "data['log_SortingTime']=np.log(data['SortingTime'])"
   ]
  },
  {
   "cell_type": "code",
   "execution_count": 24,
   "id": "8f3d7726",
   "metadata": {},
   "outputs": [],
   "source": [
    "model2=smf.ols('DeliveryTime~log_SortingTime',data=data).fit()"
   ]
  },
  {
   "cell_type": "code",
   "execution_count": 25,
   "id": "8e2a8066",
   "metadata": {},
   "outputs": [
    {
     "data": {
      "text/plain": [
       "Intercept          1.159684\n",
       "log_SortingTime    9.043413\n",
       "dtype: float64"
      ]
     },
     "execution_count": 25,
     "metadata": {},
     "output_type": "execute_result"
    }
   ],
   "source": [
    "#Model Parameteres\n",
    "model2.params"
   ]
  },
  {
   "cell_type": "code",
   "execution_count": 26,
   "id": "e8f18143",
   "metadata": {},
   "outputs": [
    {
     "data": {
      "text/plain": [
       "Intercept          0.641980\n",
       "log_SortingTime    0.000003\n",
       "dtype: float64"
      ]
     },
     "execution_count": 26,
     "metadata": {},
     "output_type": "execute_result"
    }
   ],
   "source": [
    "#Checking p value\n",
    "model2.pvalues"
   ]
  },
  {
   "cell_type": "code",
   "execution_count": 27,
   "id": "b5cf0aa3",
   "metadata": {},
   "outputs": [
    {
     "data": {
      "text/plain": [
       "0.6954434611324223"
      ]
     },
     "execution_count": 27,
     "metadata": {},
     "output_type": "execute_result"
    }
   ],
   "source": [
    "#r2 value\n",
    "model2.rsquared"
   ]
  },
  {
   "cell_type": "markdown",
   "id": "9c3db4fb",
   "metadata": {},
   "source": [
    "Log Transformation of Delivery Time"
   ]
  },
  {
   "cell_type": "code",
   "execution_count": 29,
   "id": "a9cd00a4",
   "metadata": {},
   "outputs": [],
   "source": [
    "data['log_DeliveryTime']=np.log(data['DeliveryTime'])"
   ]
  },
  {
   "cell_type": "code",
   "execution_count": 30,
   "id": "5bf03d24",
   "metadata": {},
   "outputs": [],
   "source": [
    "model3=smf.ols('log_DeliveryTime~SortingTime',data=data).fit()"
   ]
  },
  {
   "cell_type": "code",
   "execution_count": 31,
   "id": "d979197c",
   "metadata": {},
   "outputs": [
    {
     "data": {
      "text/plain": [
       "Intercept      2.121372\n",
       "SortingTime    0.105552\n",
       "dtype: float64"
      ]
     },
     "execution_count": 31,
     "metadata": {},
     "output_type": "execute_result"
    }
   ],
   "source": [
    "#Model Parameteres\n",
    "model3.params"
   ]
  },
  {
   "cell_type": "code",
   "execution_count": 32,
   "id": "f988b426",
   "metadata": {},
   "outputs": [
    {
     "data": {
      "text/plain": [
       "Intercept      1.857343e-14\n",
       "SortingTime    1.592708e-06\n",
       "dtype: float64"
      ]
     },
     "execution_count": 32,
     "metadata": {},
     "output_type": "execute_result"
    }
   ],
   "source": [
    "#Checking p value\n",
    "model3.pvalues"
   ]
  },
  {
   "cell_type": "code",
   "execution_count": 33,
   "id": "f5590e1d",
   "metadata": {},
   "outputs": [
    {
     "data": {
      "text/plain": [
       "0.7109478980584187"
      ]
     },
     "execution_count": 33,
     "metadata": {},
     "output_type": "execute_result"
    }
   ],
   "source": [
    "#r2 value\n",
    "model3.rsquared"
   ]
  },
  {
   "cell_type": "markdown",
   "id": "c5f1e0bc",
   "metadata": {},
   "source": [
    "Log Transformation of Delivery Time and Sorting Time"
   ]
  },
  {
   "cell_type": "code",
   "execution_count": 34,
   "id": "08626676",
   "metadata": {},
   "outputs": [],
   "source": [
    "model4=smf.ols('log_DeliveryTime~log_SortingTime',data=data).fit()"
   ]
  },
  {
   "cell_type": "code",
   "execution_count": 35,
   "id": "422e8ccc",
   "metadata": {},
   "outputs": [
    {
     "data": {
      "text/plain": [
       "Intercept          1.741987\n",
       "log_SortingTime    0.597522\n",
       "dtype: float64"
      ]
     },
     "execution_count": 35,
     "metadata": {},
     "output_type": "execute_result"
    }
   ],
   "source": [
    "#Model Parameteres\n",
    "model4.params"
   ]
  },
  {
   "cell_type": "code",
   "execution_count": 36,
   "id": "88b78c0d",
   "metadata": {},
   "outputs": [
    {
     "data": {
      "text/plain": [
       "Intercept          5.921137e-11\n",
       "log_SortingTime    1.601539e-07\n",
       "dtype: float64"
      ]
     },
     "execution_count": 36,
     "metadata": {},
     "output_type": "execute_result"
    }
   ],
   "source": [
    "#Checking p value\n",
    "model4.pvalues"
   ]
  },
  {
   "cell_type": "code",
   "execution_count": 37,
   "id": "ae7febe0",
   "metadata": {},
   "outputs": [
    {
     "data": {
      "text/plain": [
       "0.77216134926874"
      ]
     },
     "execution_count": 37,
     "metadata": {},
     "output_type": "execute_result"
    }
   ],
   "source": [
    "#r2 value\n",
    "model4.rsquared"
   ]
  },
  {
   "cell_type": "markdown",
   "id": "677a9e77",
   "metadata": {},
   "source": [
    "Sqrt Transformation of Sorting Time"
   ]
  },
  {
   "cell_type": "code",
   "execution_count": 39,
   "id": "c229c70c",
   "metadata": {},
   "outputs": [],
   "source": [
    "data['sqrt_SortingTime']=np.sqrt(data['SortingTime'])"
   ]
  },
  {
   "cell_type": "code",
   "execution_count": 40,
   "id": "fa162257",
   "metadata": {},
   "outputs": [],
   "source": [
    "model5=smf.ols('DeliveryTime~sqrt_SortingTime',data=data).fit()"
   ]
  },
  {
   "cell_type": "code",
   "execution_count": 41,
   "id": "754c0899",
   "metadata": {},
   "outputs": [
    {
     "data": {
      "text/plain": [
       "Intercept          -2.518837\n",
       "sqrt_SortingTime    7.936591\n",
       "dtype: float64"
      ]
     },
     "execution_count": 41,
     "metadata": {},
     "output_type": "execute_result"
    }
   ],
   "source": [
    "#Model Parameteres\n",
    "model5.params"
   ]
  },
  {
   "cell_type": "code",
   "execution_count": 42,
   "id": "904f7483",
   "metadata": {},
   "outputs": [
    {
     "data": {
      "text/plain": [
       "Intercept           0.410857\n",
       "sqrt_SortingTime    0.000003\n",
       "dtype: float64"
      ]
     },
     "execution_count": 42,
     "metadata": {},
     "output_type": "execute_result"
    }
   ],
   "source": [
    "#Checking p value\n",
    "model5.pvalues"
   ]
  },
  {
   "cell_type": "code",
   "execution_count": 43,
   "id": "5a1caaef",
   "metadata": {},
   "outputs": [
    {
     "data": {
      "text/plain": [
       "0.695806227630867"
      ]
     },
     "execution_count": 43,
     "metadata": {},
     "output_type": "execute_result"
    }
   ],
   "source": [
    "#r2 value\n",
    "model5.rsquared"
   ]
  },
  {
   "cell_type": "markdown",
   "id": "307a040e",
   "metadata": {},
   "source": [
    "Sqrt Transformation of Delivery Time"
   ]
  },
  {
   "cell_type": "code",
   "execution_count": 44,
   "id": "15fe7c86",
   "metadata": {},
   "outputs": [],
   "source": [
    "data['sqrt_DeliveryTime']=np.sqrt(data['DeliveryTime'])"
   ]
  },
  {
   "cell_type": "code",
   "execution_count": 46,
   "id": "11c2eb12",
   "metadata": {},
   "outputs": [],
   "source": [
    "model6=smf.ols('sqrt_DeliveryTime~SortingTime',data=data).fit()"
   ]
  },
  {
   "cell_type": "code",
   "execution_count": 47,
   "id": "0591cfa1",
   "metadata": {},
   "outputs": [
    {
     "data": {
      "text/plain": [
       "Intercept      2.772731\n",
       "SortingTime    0.206632\n",
       "dtype: float64"
      ]
     },
     "execution_count": 47,
     "metadata": {},
     "output_type": "execute_result"
    }
   ],
   "source": [
    "#Model Parameteres\n",
    "model6.params"
   ]
  },
  {
   "cell_type": "code",
   "execution_count": 48,
   "id": "ee6cfcc3",
   "metadata": {},
   "outputs": [
    {
     "data": {
      "text/plain": [
       "Intercept      3.339366e-11\n",
       "SortingTime    2.001215e-06\n",
       "dtype: float64"
      ]
     },
     "execution_count": 48,
     "metadata": {},
     "output_type": "execute_result"
    }
   ],
   "source": [
    "#Checking p value\n",
    "model6.pvalues"
   ]
  },
  {
   "cell_type": "code",
   "execution_count": 49,
   "id": "1682b753",
   "metadata": {},
   "outputs": [
    {
     "data": {
      "text/plain": [
       "0.704049871541756"
      ]
     },
     "execution_count": 49,
     "metadata": {},
     "output_type": "execute_result"
    }
   ],
   "source": [
    "#r2 value\n",
    "model6.rsquared"
   ]
  },
  {
   "cell_type": "markdown",
   "id": "9ead26c9",
   "metadata": {},
   "source": [
    "Sqrt Transformation of both."
   ]
  },
  {
   "cell_type": "code",
   "execution_count": 50,
   "id": "0aaa4b49",
   "metadata": {},
   "outputs": [],
   "source": [
    "model7=smf.ols('sqrt_DeliveryTime~sqrt_SortingTime',data=data).fit()"
   ]
  },
  {
   "cell_type": "code",
   "execution_count": 51,
   "id": "08b548b6",
   "metadata": {},
   "outputs": [
    {
     "data": {
      "text/plain": [
       "Intercept           1.613479\n",
       "sqrt_SortingTime    1.002217\n",
       "dtype: float64"
      ]
     },
     "execution_count": 51,
     "metadata": {},
     "output_type": "execute_result"
    }
   ],
   "source": [
    "#Model Parameteres\n",
    "model7.params"
   ]
  },
  {
   "cell_type": "code",
   "execution_count": 52,
   "id": "53a874bb",
   "metadata": {},
   "outputs": [
    {
     "data": {
      "text/plain": [
       "Intercept           1.833621e-04\n",
       "sqrt_SortingTime    8.475706e-07\n",
       "dtype: float64"
      ]
     },
     "execution_count": 52,
     "metadata": {},
     "output_type": "execute_result"
    }
   ],
   "source": [
    "#Checking p value\n",
    "model7.pvalues"
   ]
  },
  {
   "cell_type": "code",
   "execution_count": 57,
   "id": "1e998854",
   "metadata": {},
   "outputs": [
    {
     "data": {
      "text/plain": [
       "0.7292011987544665"
      ]
     },
     "execution_count": 57,
     "metadata": {},
     "output_type": "execute_result"
    }
   ],
   "source": [
    "#r2 value\n",
    "model7.rsquared"
   ]
  },
  {
   "cell_type": "markdown",
   "id": "8369b2e5",
   "metadata": {},
   "source": [
    "Model 4 gives the best accuracy."
   ]
  }
 ],
 "metadata": {
  "kernelspec": {
   "display_name": "Python 3 (ipykernel)",
   "language": "python",
   "name": "python3"
  },
  "language_info": {
   "codemirror_mode": {
    "name": "ipython",
    "version": 3
   },
   "file_extension": ".py",
   "mimetype": "text/x-python",
   "name": "python",
   "nbconvert_exporter": "python",
   "pygments_lexer": "ipython3",
   "version": "3.9.13"
  }
 },
 "nbformat": 4,
 "nbformat_minor": 5
}
